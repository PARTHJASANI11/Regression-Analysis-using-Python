{
 "cells": [
  {
   "cell_type": "code",
   "execution_count": 1,
   "metadata": {
    "executionInfo": {
     "elapsed": 2081,
     "status": "ok",
     "timestamp": 1604729601268,
     "user": {
      "displayName": "KAUSHAL JANI",
      "photoUrl": "https://lh6.googleusercontent.com/-tUBwke8Z40I/AAAAAAAAAAI/AAAAAAAAAA4/rL8_Vxmv61A/s64/photo.jpg",
      "userId": "02034609449681968860"
     },
     "user_tz": -330
    },
    "id": "ROnQD47YlaBv"
   },
   "outputs": [],
   "source": [
    "import numpy as np\n",
    "import sklearn\n",
    "import pandas as pd\n",
    "import matplotlib.pyplot as plt\n",
    "#import sklearn.metrics.r2_score\n",
    "import scipy"
   ]
  },
  {
   "cell_type": "code",
   "execution_count": 2,
   "metadata": {
    "colab": {
     "base_uri": "https://localhost:8080/"
    },
    "executionInfo": {
     "elapsed": 1504,
     "status": "ok",
     "timestamp": 1604671094044,
     "user": {
      "displayName": "KAUSHAL JANI",
      "photoUrl": "https://lh6.googleusercontent.com/-tUBwke8Z40I/AAAAAAAAAAI/AAAAAAAAAA4/rL8_Vxmv61A/s64/photo.jpg",
      "userId": "02034609449681968860"
     },
     "user_tz": -330
    },
    "id": "NHxZuA5pllm9",
    "outputId": "ccbea7b0-f9be-49cd-cacd-bf5e1c37ce48"
   },
   "outputs": [
    {
     "data": {
      "image/png": "[encoded data removed]",
      "text/plain": [
       "<Figure size 432x288 with 1 Axes>"
      ]
     },
     "metadata": {
      "needs_background": "light"
     },
     "output_type": "display_data"
    }
   ],
   "source": [
    "# Population Scatter Plot\n",
    "from matplotlib import pyplot as plt\n",
    "\n",
    "x = [[80, 80, 80, 80, 80],\n",
    "     [100, 100, 100, 100, 100, 100],\n",
    "     [120, 120, 120, 120, 120],\n",
    "     [140, 140, 140, 140, 140, 140, 140],\n",
    "     [160, 160, 160, 160, 160, 160],\n",
    "     [180, 180, 180, 180, 180, 180],\n",
    "     [200, 200, 200, 200, 200],\n",
    "     [220, 220, 220, 220, 220, 220, 200],\n",
    "     [240, 240, 240, 240, 240, 240],\n",
    "     [260, 260, 260, 260, 260, 260, 260]]\n",
    "y = [[55, 60, 65, 70, 75],\n",
    "     [65, 70, 74, 80, 85, 88],\n",
    "     [79, 84, 90, 94, 98],\n",
    "     [80, 93, 95, 103, 108, 113, 115],\n",
    "     [102, 107, 110, 116, 118, 125],\n",
    "     [110, 115, 120, 130, 135, 140],\n",
    "     [120, 136, 140, 144, 145],\n",
    "     [135, 137, 140, 152, 157, 160, 162],\n",
    "     [137, 145, 155, 165, 175, 189],\n",
    "     [150, 152, 175, 178, 180, 185, 191]]\n",
    "plt.xlabel(\"Income (X)\")\n",
    "plt.ylabel(\"Weekly Consumption Expenditure (Y)\")\n",
    "for i in range(10):\n",
    "    plt.scatter(x[i], y[i])"
   ]
  },
  {
   "cell_type": "code",
   "execution_count": 3,
   "metadata": {
    "colab": {
     "base_uri": "https://localhost:8080/"
    },
    "executionInfo": {
     "elapsed": 1269,
     "status": "ok",
     "timestamp": 1604669001159,
     "user": {
      "displayName": "KAUSHAL JANI",
      "photoUrl": "https://lh6.googleusercontent.com/-tUBwke8Z40I/AAAAAAAAAAI/AAAAAAAAAA4/rL8_Vxmv61A/s64/photo.jpg",
      "userId": "02034609449681968860"
     },
     "user_tz": -330
    },
    "id": "sQVbtuaFo8d5",
    "outputId": "e7cecd08-aafa-44f0-e515-4c42ec44a017"
   },
   "outputs": [
    {
     "name": "stderr",
     "output_type": "stream",
     "text": [
      "C:\\Users\\Parth Jasani\\Anaconda3\\lib\\site-packages\\statsmodels\\tools\\_testing.py:19: FutureWarning: pandas.util.testing is deprecated. Use the functions in the public API at pandas.testing instead.\n",
      "  import pandas.util.testing as tm\n"
     ]
    },
    {
     "name": "stdout",
     "output_type": "stream",
     "text": [
      "                            OLS Regression Results                            \n",
      "==============================================================================\n",
      "Dep. Variable:                      y   R-squared:                       0.987\n",
      "Model:                            OLS   Adj. R-squared:                  0.986\n",
      "Method:                 Least Squares   F-statistic:                     631.9\n",
      "Date:                Fri, 08 Jan 2021   Prob (F-statistic):           6.71e-09\n",
      "Time:                        18:24:42   Log-Likelihood:                -27.743\n",
      "No. Observations:                  10   AIC:                             59.49\n",
      "Df Residuals:                       8   BIC:                             60.09\n",
      "Df Model:                           1                                         \n",
      "Covariance Type:            nonrobust                                         \n",
      "==============================================================================\n",
      "                 coef    std err          t      P>|t|      [0.025      0.975]\n",
      "------------------------------------------------------------------------------\n",
      "const         19.6000      4.283      4.576      0.002       9.723      29.477\n",
      "x1             0.6000      0.024     25.138      0.000       0.545       0.655\n",
      "==============================================================================\n",
      "Omnibus:                        3.018   Durbin-Watson:                   1.988\n",
      "Prob(Omnibus):                  0.221   Jarque-Bera (JB):                0.512\n",
      "Skew:                          -0.386   Prob(JB):                        0.774\n",
      "Kurtosis:                       3.796   Cond. No.                         561.\n",
      "==============================================================================\n",
      "\n",
      "Warnings:\n",
      "[1] Standard Errors assume that the covariance matrix of the errors is correctly specified.\n"
     ]
    },
    {
     "name": "stderr",
     "output_type": "stream",
     "text": [
      "C:\\Users\\Parth Jasani\\Anaconda3\\lib\\site-packages\\scipy\\stats\\stats.py:1450: UserWarning: kurtosistest only valid for n>=20 ... continuing anyway, n=10\n",
      "  \"anyway, n=%i\" % int(n))\n"
     ]
    }
   ],
   "source": [
    "# Sample - 1\n",
    "import pandas as pd\n",
    "import numpy as np\n",
    "from sklearn import datasets, linear_model\n",
    "from sklearn.linear_model import LinearRegression\n",
    "import statsmodels.api as sm\n",
    "from scipy import stats\n",
    "\n",
    "income=np.array([80,100,120,140,160,180,200,220,240,260])\n",
    "weekly_consumption=np.array([65,80,90,103,118,135,140,152,155,178])\n",
    "\n",
    "temp = sm.add_constant(income)\n",
    "est = sm.OLS(weekly_consumption, temp)\n",
    "est2 = est.fit()\n",
    "print(est2.summary())\n"
   ]
  },
  {
   "cell_type": "code",
   "execution_count": 4,
   "metadata": {
    "colab": {
     "base_uri": "https://localhost:8080/"
    },
    "executionInfo": {
     "elapsed": 1268,
     "status": "ok",
     "timestamp": 1604668513547,
     "user": {
      "displayName": "KAUSHAL JANI",
      "photoUrl": "https://lh6.googleusercontent.com/-tUBwke8Z40I/AAAAAAAAAAI/AAAAAAAAAA4/rL8_Vxmv61A/s64/photo.jpg",
      "userId": "02034609449681968860"
     },
     "user_tz": -330
    },
    "id": "B-PszZO7rq9T",
    "outputId": "e159b743-7111-42f5-c1ed-766b6f5d6548"
   },
   "outputs": [
    {
     "name": "stdout",
     "output_type": "stream",
     "text": [
      "                            OLS Regression Results                            \n",
      "==============================================================================\n",
      "Dep. Variable:                      y   R-squared:                       0.948\n",
      "Model:                            OLS   Adj. R-squared:                  0.941\n",
      "Method:                 Least Squares   F-statistic:                     144.7\n",
      "Date:                Fri, 08 Jan 2021   Prob (F-statistic):           2.11e-06\n",
      "Time:                        18:24:47   Log-Likelihood:                -36.049\n",
      "No. Observations:                  10   AIC:                             76.10\n",
      "Df Residuals:                       8   BIC:                             76.70\n",
      "Df Model:                           1                                         \n",
      "Covariance Type:            nonrobust                                         \n",
      "==============================================================================\n",
      "                 coef    std err          t      P>|t|      [0.025      0.975]\n",
      "------------------------------------------------------------------------------\n",
      "const         13.0061      9.828      1.323      0.222      -9.658      35.670\n",
      "x1             0.6588      0.055     12.028      0.000       0.532       0.785\n",
      "==============================================================================\n",
      "Omnibus:                        7.358   Durbin-Watson:                   1.627\n",
      "Prob(Omnibus):                  0.025   Jarque-Bera (JB):                3.082\n",
      "Skew:                          -1.302   Prob(JB):                        0.214\n",
      "Kurtosis:                       3.783   Cond. No.                         561.\n",
      "==============================================================================\n",
      "\n",
      "Warnings:\n",
      "[1] Standard Errors assume that the covariance matrix of the errors is correctly specified.\n"
     ]
    }
   ],
   "source": [
    "# Sample - 2\n",
    "import pandas as pd\n",
    "import numpy as np\n",
    "from sklearn import datasets, linear_model\n",
    "from sklearn.linear_model import LinearRegression\n",
    "import statsmodels.api as sm\n",
    "from scipy import stats\n",
    "\n",
    "\n",
    "income=np.array([80,100,120,140,160,180,200,220,240,260])\n",
    "weekly_consumption=np.array([70,74,94,115,125,110,136,160,175,191])\n",
    "temp = sm.add_constant(income)\n",
    "est = sm.OLS(weekly_consumption, temp)\n",
    "est2 = est.fit()\n",
    "print(est2.summary())"
   ]
  },
  {
   "cell_type": "code",
   "execution_count": 5,
   "metadata": {},
   "outputs": [
    {
     "data": {
      "text/plain": [
       "[<matplotlib.lines.Line2D at 0x1e5573e7dc8>]"
      ]
     },
     "execution_count": 5,
     "metadata": {},
     "output_type": "execute_result"
    },
    {
     "data": {
      "image/png": "[encoded data removed]",
      "text/plain": [
       "<Figure size 432x288 with 1 Axes>"
      ]
     },
     "metadata": {
      "needs_background": "light"
     },
     "output_type": "display_data"
    }
   ],
   "source": [
    "from scipy.stats import kurtosis \n",
    "import numpy as np  \n",
    "import pylab as p  \n",
    "\n",
    "x1 = np.array([70,74,94,115,125,110,136,160,175,191])\n",
    "y1 = 1./(np.sqrt(2.*np.pi)) * np.exp( -.5*(x1)**2  ) \n",
    "  \n",
    "p.plot(x1, y1, '*') "
   ]
  },
  {
   "cell_type": "code",
   "execution_count": 6,
   "metadata": {},
   "outputs": [
    {
     "data": {
      "image/png": "[encoded data removed]",
      "text/plain": [
       "<Figure size 432x288 with 1 Axes>"
      ]
     },
     "metadata": {
      "needs_background": "light"
     },
     "output_type": "display_data"
    }
   ],
   "source": [
    "# Sample - 1\n",
    "from matplotlib import pyplot as plt\n",
    "from sklearn.linear_model import LinearRegression\n",
    "\n",
    "x = [[80], [100], [120], [140], [160],\n",
    "     [180], [200], [220], [240], [260]]\n",
    "y1 = [65, 80, 90, 103, 118,\n",
    "      135, 140, 152, 155, 178]\n",
    "\n",
    "\n",
    "re = LinearRegression().fit(x, y1)\n",
    "y_pred = re.predict(x)\n",
    "plt.scatter(x, y1, color = \"orange\")\n",
    "plt.plot(x, y_pred, color = \"green\")\n",
    "plt.show()"
   ]
  },
  {
   "cell_type": "code",
   "execution_count": 7,
   "metadata": {},
   "outputs": [
    {
     "data": {
      "image/png": "[encoded data removed]",
      "text/plain": [
       "<Figure size 432x288 with 1 Axes>"
      ]
     },
     "metadata": {
      "needs_background": "light"
     },
     "output_type": "display_data"
    }
   ],
   "source": [
    "# Sample - 2\n",
    "from matplotlib import pyplot as plt\n",
    "from sklearn.linear_model import LinearRegression\n",
    "\n",
    "x = [[80], [100], [120], [140], [160],\n",
    "     [180], [200], [220], [240], [260]]\n",
    "y2 = [70, 74, 94, 115, 125,\n",
    "      110, 136, 160, 175, 191]\n",
    "\n",
    "re = LinearRegression().fit(x, y2)\n",
    "y_pred = re.predict(x)\n",
    "plt.scatter(x, y2, color = \"blue\")\n",
    "plt.plot(x, y_pred, color = \"red\")\n",
    "plt.show()"
   ]
  }
 ],
 "metadata": {
  "colab": {
   "authorship_tag": "ABX9TyMbW/4JYVMQWtOQgTETpFYP",
   "collapsed_sections": [],
   "name": "Econometrics.ipynb",
   "provenance": []
  },
  "kernelspec": {
   "display_name": "Python 3",
   "language": "python",
   "name": "python3"
  },
  "language_info": {
   "codemirror_mode": {
    "name": "ipython",
    "version": 3
   },
   "file_extension": ".py",
   "mimetype": "text/x-python",
   "name": "python",
   "nbconvert_exporter": "python",
   "pygments_lexer": "ipython3",
   "version": "3.7.4"
  }
 },
 "nbformat": 4,
 "nbformat_minor": 1
}
